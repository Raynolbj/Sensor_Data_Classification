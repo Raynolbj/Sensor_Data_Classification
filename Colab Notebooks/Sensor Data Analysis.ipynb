{
 "cells": [
  {
   "cell_type": "markdown",
   "metadata": {
    "id": "pjvLuEjgqt0v"
   },
   "source": [
    "#Fetch Data From Google Drive"
   ]
  },
  {
   "cell_type": "code",
   "execution_count": null,
   "metadata": {
    "colab": {
     "base_uri": "https://localhost:8080/"
    },
    "executionInfo": {
     "elapsed": 66239,
     "status": "ok",
     "timestamp": 1733703023138,
     "user": {
      "displayName": "Bricen Raynold",
      "userId": "14239134639817671034"
     },
     "user_tz": 300
    },
    "id": "mx0us4YrqocH",
    "outputId": "3b95691e-76d3-4ba2-a45d-f202cfaef046"
   },
   "outputs": [
    {
     "name": "stdout",
     "output_type": "stream",
     "text": [
      "Mounted at /content/drive\n"
     ]
    }
   ],
   "source": [
    "# No longer necessary following location port\n",
    "#from google.colab import drive\n",
    "#drive.mount('/content/drive')"
   ]
  },
  {
   "cell_type": "markdown",
   "metadata": {
    "id": "2LJixjqrqzrG"
   },
   "source": [
    "# Import Necessary Libraries"
   ]
  },
  {
   "cell_type": "code",
   "execution_count": 1,
   "metadata": {
    "executionInfo": {
     "elapsed": 11972,
     "status": "ok",
     "timestamp": 1733702589776,
     "user": {
      "displayName": "Bricen Raynold",
      "userId": "14239134639817671034"
     },
     "user_tz": 300
    },
    "id": "GjvP5Z8Cq80G"
   },
   "outputs": [],
   "source": [
    "import glob\n",
    "import pandas as pd\n",
    "import numpy as np\n",
    "import seaborn as sns\n",
    "import matplotlib.pyplot as plt\n",
    "import os\n",
    "import re\n",
    "import warnings\n",
    "warnings.filterwarnings('ignore')\n",
    "\n",
    "from sklearn.tree import DecisionTreeClassifier\n",
    "from sklearn.model_selection import StratifiedKFold, GridSearchCV, RandomizedSearchCV, train_test_split\n",
    "from sklearn.metrics import accuracy_score, precision_score, recall_score, f1_score, classification_report\n",
    "from sklearn.preprocessing import StandardScaler"
   ]
  },
  {
   "cell_type": "markdown",
   "metadata": {
    "id": "K1Yzxa-Aq-AV"
   },
   "source": [
    "#Load CSVs"
   ]
  },
  {
   "cell_type": "code",
   "execution_count": null,
   "metadata": {
    "executionInfo": {
     "elapsed": 8742,
     "status": "ok",
     "timestamp": 1733703040417,
     "user": {
      "displayName": "Bricen Raynold",
      "userId": "14239134639817671034"
     },
     "user_tz": 300
    },
    "id": "FuZpQyqLrlOo"
   },
   "outputs": [],
   "source": [
    "import os\n",
    "\n",
    "# Get the data folder  \n",
    "notebook_dir = os.path.dirname(os.path.abspath(\"__file__\"))\n",
    "data_dir = os.path.join(notebook_dir, \"..\", \"Dataset\") \n",
    "\n",
    "# Normalize the path\n",
    "data_dir = os.path.abspath(data_dir)\n",
    "\n",
    "W100_025_df = pd.read_csv(os.path.join(data_dir, \"W100_O25_Features.csv\"))\n",
    "W200_025_df = pd.read_csv(os.path.join(data_dir, \"W200_O25_Features.csv\"))\n",
    "W300_025_df = pd.read_csv(os.path.join(data_dir, \"W300_O25_Features.csv\"))\n",
    "W400_025_df = pd.read_csv(os.path.join(data_dir, \"W400_O25_Features.csv\"))\n",
    "W500_025_df = pd.read_csv(os.path.join(data_dir, \"W500_O25_Features.csv\"))\n",
    "\n",
    "W100_050_df = pd.read_csv(os.path.join(data_dir, \"W100_O50_Features.csv\"))\n",
    "W200_050_df = pd.read_csv(os.path.join(data_dir, \"W200_O50_Features.csv\"))\n",
    "W300_050_df = pd.read_csv(os.path.join(data_dir, \"W300_O50_Features.csv\"))\n",
    "W400_050_df = pd.read_csv(os.path.join(data_dir, \"W400_O50_Features.csv\"))\n",
    "W500_050_df = pd.read_csv(os.path.join(data_dir, \"W500_O50_Features.csv\"))"
   ]
  },
  {
   "cell_type": "markdown",
   "metadata": {
    "id": "J03x9j9Htf5A"
   },
   "source": [
    "# Logistic Regression (W100_025)"
   ]
  },
  {
   "cell_type": "markdown",
   "metadata": {
    "id": "km-Io3CE_G3w"
   },
   "source": [
    "Logistic Regression with GridSearch, RandomSearch, and Stratified KFold"
   ]
  },
  {
   "cell_type": "code",
   "execution_count": 3,
   "metadata": {
    "colab": {
     "base_uri": "https://localhost:8080/"
    },
    "executionInfo": {
     "elapsed": 594041,
     "status": "ok",
     "timestamp": 1733694022422,
     "user": {
      "displayName": "Bricen Raynold",
      "userId": "14239134639817671034"
     },
     "user_tz": 300
    },
    "id": "Ud-F2NaJtiBL",
    "outputId": "46fb9815-44c1-4278-fa0b-a74eb0a92d81"
   },
   "outputs": [
    {
     "name": "stdout",
     "output_type": "stream",
     "text": [
      "Fitting 3 folds for each of 18 candidates, totalling 54 fits\n",
      "GridSearch Classification Report:\n",
      "                                   precision    recall  f1-score   support\n",
      "\n",
      "          Browsing Using Computer       0.97      0.98      0.98       509\n",
      "      Moving Around While Sitting       0.95      0.94      0.95       544\n",
      "     Moving Around While Standing       0.97      0.93      0.95       580\n",
      "       Moving Chair While Sitting       0.96      0.93      0.94       598\n",
      "  Moving Head, Body While Sitting       0.96      0.94      0.95       541\n",
      "   Picking Up Items While Sitting       0.93      0.97      0.95       455\n",
      "  Picking Up Items While Standing       0.96      0.96      0.96       423\n",
      "                          Running       0.98      0.94      0.96       388\n",
      "       Sitting and Reading a Book       0.99      1.00      1.00       602\n",
      "Sitting and Writing in a Notebook       0.96      0.99      0.97       526\n",
      "            Stand up From Sitting       0.92      0.95      0.94       491\n",
      "                         Standing       0.93      0.94      0.94       577\n",
      "                    Taking Stairs       0.99      1.00      0.99       544\n",
      "            Typing Using Computer       0.99      0.96      0.98       611\n",
      "                          Walking       0.95      0.98      0.96       529\n",
      "\n",
      "                         accuracy                           0.96      7918\n",
      "                        macro avg       0.96      0.96      0.96      7918\n",
      "                     weighted avg       0.96      0.96      0.96      7918\n",
      "\n",
      "Accuracy: 0.9609749936852741\n",
      "Precision: 0.9613173060945933\n",
      "Recall: 0.9609749936852741\n",
      "F1 Score: 0.9609617164522675\n",
      "Fitting 3 folds for each of 10 candidates, totalling 30 fits\n",
      "\n",
      "RandomizedSearch Classification Report:\n",
      "                                   precision    recall  f1-score   support\n",
      "\n",
      "          Browsing Using Computer       0.97      0.98      0.98       509\n",
      "      Moving Around While Sitting       0.95      0.94      0.95       544\n",
      "     Moving Around While Standing       0.97      0.93      0.95       580\n",
      "       Moving Chair While Sitting       0.96      0.93      0.94       598\n",
      "  Moving Head, Body While Sitting       0.96      0.94      0.95       541\n",
      "   Picking Up Items While Sitting       0.93      0.97      0.95       455\n",
      "  Picking Up Items While Standing       0.96      0.96      0.96       423\n",
      "                          Running       0.98      0.94      0.96       388\n",
      "       Sitting and Reading a Book       0.99      1.00      1.00       602\n",
      "Sitting and Writing in a Notebook       0.96      0.99      0.97       526\n",
      "            Stand up From Sitting       0.92      0.95      0.94       491\n",
      "                         Standing       0.93      0.94      0.94       577\n",
      "                    Taking Stairs       0.99      1.00      0.99       544\n",
      "            Typing Using Computer       0.99      0.96      0.98       611\n",
      "                          Walking       0.95      0.98      0.96       529\n",
      "\n",
      "                         accuracy                           0.96      7918\n",
      "                        macro avg       0.96      0.96      0.96      7918\n",
      "                     weighted avg       0.96      0.96      0.96      7918\n",
      "\n",
      "Accuracy (Randomized Search): 0.9609749936852741\n",
      "Precision (Randomized Search): 0.9613173060945933\n",
      "Recall (Randomized Search): 0.9609749936852741\n",
      "F1 Score (Randomized Search): 0.9609617164522675\n"
     ]
    }
   ],
   "source": [
    "# Window sizes and overlaps\n",
    "window_sizes = [100, 200, 300, 400, 500]\n",
    "overlaps = [0.25, 0.5]\n",
    "\n",
    "# Logistic Regression Implementation\n",
    "\n",
    "target_column = W100_025_df.columns[-1]\n",
    "X = W100_025_df.drop(columns=[target_column])\n",
    "y = W100_025_df[target_column]\n",
    "\n",
    "# Train-test split (80-20)\n",
    "X_train, X_test, y_train, y_test = train_test_split(X, y, test_size=0.2, random_state=42)\n",
    "\n",
    "# Scale features (standardize)\n",
    "scaler = StandardScaler()\n",
    "X_train = scaler.fit_transform(X_train)\n",
    "X_test = scaler.transform(X_test)\n",
    "\n",
    "# Stratified K-Fold Cross-Validation\n",
    "skf = StratifiedKFold(n_splits=3, shuffle=True, random_state=42)\n",
    "\n",
    "# Define the Logistic Regression model\n",
    "lr = LogisticRegression(max_iter=300, multi_class='multinomial', solver='lbfgs')\n",
    "\n",
    "# Grid Search for hyperparameter tuning\n",
    "param_grid = {\n",
    "    'C': [0.1, 1, 10],\n",
    "    'penalty': ['l2'],  # 'l1' not supported by 'lbfgs' solver\n",
    "    'solver': ['lbfgs', 'saga'],\n",
    "    'max_iter': [100, 200, 300]\n",
    "}\n",
    "grid_search = GridSearchCV(\n",
    "    lr, param_grid, cv=skf, scoring='accuracy', verbose=1\n",
    ")\n",
    "\n",
    "# Fit the model using GridSearchCV\n",
    "grid_search.fit(X_train, y_train)\n",
    "\n",
    "# Best model from grid search\n",
    "best_model = grid_search.best_estimator_\n",
    "\n",
    "# Predictions and evaluation on the test set\n",
    "y_pred = best_model.predict(X_test)\n",
    "\n",
    "# Classification Report\n",
    "print(\"GridSearch Classification Report:\")\n",
    "print(classification_report(y_test, y_pred))\n",
    "\n",
    "# Additional metrics\n",
    "accuracy = accuracy_score(y_test, y_pred)\n",
    "precision = precision_score(y_test, y_pred, average='weighted')\n",
    "recall = recall_score(y_test, y_pred, average='weighted')\n",
    "f1 = f1_score(y_test, y_pred, average='weighted')\n",
    "\n",
    "print(f\"Accuracy: {accuracy}\")\n",
    "print(f\"Precision: {precision}\")\n",
    "print(f\"Recall: {recall}\")\n",
    "print(f\"F1 Score: {f1}\")\n",
    "\n",
    "# Randomized Search for hyperparameter tuning\n",
    "random_search = RandomizedSearchCV(\n",
    "    lr, param_distributions=param_grid, n_iter=10, cv=skf, scoring='accuracy', random_state=42, verbose=1\n",
    ")\n",
    "random_search.fit(X_train, y_train)\n",
    "\n",
    "# Best model from Randomized Search\n",
    "best_random_model = random_search.best_estimator_\n",
    "\n",
    "# Predictions and evaluation on the test set\n",
    "y_pred_random = best_random_model.predict(X_test)\n",
    "\n",
    "# Classification Report for Randomized Search\n",
    "print(\"\\nRandomizedSearch Classification Report:\")\n",
    "print(classification_report(y_test, y_pred_random))\n",
    "\n",
    "# Additional metrics for Randomized Search model\n",
    "accuracy_random = accuracy_score(y_test, y_pred_random)\n",
    "precision_random = precision_score(y_test, y_pred_random, average='weighted')\n",
    "recall_random = recall_score(y_test, y_pred_random, average='weighted')\n",
    "f1_random = f1_score(y_test, y_pred_random, average='weighted')\n",
    "\n",
    "print(f\"Accuracy (Randomized Search): {accuracy_random}\")\n",
    "print(f\"Precision (Randomized Search): {precision_random}\")\n",
    "print(f\"Recall (Randomized Search): {recall_random}\")\n",
    "print(f\"F1 Score (Randomized Search): {f1_random}\")"
   ]
  },
  {
   "cell_type": "markdown",
   "metadata": {
    "id": "Rk3qK_7m8Get"
   },
   "source": [
    "#Decision Trees (W100_O50)"
   ]
  },
  {
   "cell_type": "markdown",
   "metadata": {
    "id": "HX3yYInQvcGL"
   },
   "source": [
    "Decision Tree with Stratified K-Fold Cross-Validation and GridSearch + RandomSearch Tuning"
   ]
  },
  {
   "cell_type": "code",
   "execution_count": 7,
   "metadata": {
    "colab": {
     "base_uri": "https://localhost:8080/"
    },
    "executionInfo": {
     "elapsed": 576700,
     "status": "ok",
     "timestamp": 1733703622122,
     "user": {
      "displayName": "Bricen Raynold",
      "userId": "14239134639817671034"
     },
     "user_tz": 300
    },
    "id": "JgIBgAcJugNb",
    "outputId": "f548f202-4ff4-450e-9be1-e1a8874e19cf"
   },
   "outputs": [
    {
     "name": "stdout",
     "output_type": "stream",
     "text": [
      "Fitting 3 folds for each of 216 candidates, totalling 648 fits\n",
      "Classification Report:\n",
      "                                   precision    recall  f1-score   support\n",
      "\n",
      "          Browsing Using Computer       1.00      1.00      1.00       817\n",
      "      Moving Around While Sitting       1.00      1.00      1.00       856\n",
      "     Moving Around While Standing       1.00      1.00      1.00       845\n",
      "       Moving Chair While Sitting       1.00      1.00      1.00       847\n",
      "  Moving Head, Body While Sitting       1.00      1.00      1.00       857\n",
      "   Picking Up Items While Sitting       1.00      1.00      1.00       686\n",
      "  Picking Up Items While Standing       1.00      1.00      1.00       631\n",
      "                          Running       1.00      1.00      1.00       609\n",
      "       Sitting and Reading a Book       1.00      1.00      1.00       883\n",
      "Sitting and Writing in a Notebook       1.00      1.00      1.00       786\n",
      "            Stand up From Sitting       1.00      1.00      1.00       773\n",
      "                         Standing       1.00      1.00      1.00       886\n",
      "                    Taking Stairs       1.00      1.00      1.00       769\n",
      "            Typing Using Computer       1.00      1.00      1.00       862\n",
      "                          Walking       1.00      1.00      1.00       769\n",
      "\n",
      "                         accuracy                           1.00     11876\n",
      "                        macro avg       1.00      1.00      1.00     11876\n",
      "                     weighted avg       1.00      1.00      1.00     11876\n",
      "\n",
      "Accuracy: 0.9997473896934995\n",
      "Precision: 0.9997477280432611\n",
      "Recall: 0.9997473896934995\n",
      "F1 Score: 0.9997474012028602\n",
      "Fitting 3 folds for each of 10 candidates, totalling 30 fits\n",
      "\n",
      "Randomized Search Classification Report:\n",
      "                                   precision    recall  f1-score   support\n",
      "\n",
      "          Browsing Using Computer       1.00      1.00      1.00       817\n",
      "      Moving Around While Sitting       1.00      1.00      1.00       856\n",
      "     Moving Around While Standing       1.00      1.00      1.00       845\n",
      "       Moving Chair While Sitting       1.00      1.00      1.00       847\n",
      "  Moving Head, Body While Sitting       1.00      1.00      1.00       857\n",
      "   Picking Up Items While Sitting       1.00      1.00      1.00       686\n",
      "  Picking Up Items While Standing       1.00      1.00      1.00       631\n",
      "                          Running       1.00      1.00      1.00       609\n",
      "       Sitting and Reading a Book       1.00      1.00      1.00       883\n",
      "Sitting and Writing in a Notebook       1.00      1.00      1.00       786\n",
      "            Stand up From Sitting       1.00      1.00      1.00       773\n",
      "                         Standing       1.00      1.00      1.00       886\n",
      "                    Taking Stairs       1.00      1.00      1.00       769\n",
      "            Typing Using Computer       1.00      1.00      1.00       862\n",
      "                          Walking       1.00      1.00      1.00       769\n",
      "\n",
      "                         accuracy                           1.00     11876\n",
      "                        macro avg       1.00      1.00      1.00     11876\n",
      "                     weighted avg       1.00      1.00      1.00     11876\n",
      "\n",
      "Accuracy (Randomized Search): 0.9997473896934995\n",
      "Precision (Randomized Search): 0.9997477280432611\n",
      "Recall (Randomized Search): 0.9997473896934995\n",
      "F1 Score (Randomized Search): 0.9997474012028602\n"
     ]
    }
   ],
   "source": [
    "from sklearn.tree import DecisionTreeClassifier\n",
    "from sklearn.model_selection import StratifiedKFold, GridSearchCV, RandomizedSearchCV, train_test_split\n",
    "from sklearn.metrics import accuracy_score, precision_score, recall_score, f1_score, classification_report\n",
    "from sklearn.preprocessing import StandardScaler\n",
    "\n",
    "\n",
    "target_column = W100_050_df.columns[-1]\n",
    "X = W100_050_df.drop(columns=[target_column])\n",
    "y = W100_050_df[target_column]\n",
    "\n",
    "# Train-test split (80-20)\n",
    "X_train, X_test, y_train, y_test = train_test_split(X, y, test_size=0.2, random_state=42)\n",
    "\n",
    "# Scale features (standardize)\n",
    "scaler = StandardScaler()\n",
    "X_train = scaler.fit_transform(X_train)\n",
    "X_test = scaler.transform(X_test)\n",
    "\n",
    "# Stratified K-Fold Cross-Validation\n",
    "skf = StratifiedKFold(n_splits=3, shuffle=True, random_state=42)\n",
    "\n",
    "# Define the Decision Tree model\n",
    "dt = DecisionTreeClassifier(random_state=42)\n",
    "\n",
    "# Grid Search for hyperparameter tuning\n",
    "param_grid = {\n",
    "    'criterion': ['gini', 'entropy'],\n",
    "    'max_depth': [None, 10, 20, 30],\n",
    "    'min_samples_split': [2, 5, 10],\n",
    "    'min_samples_leaf': [1, 2, 4],\n",
    "    'max_features': [None, 'sqrt', 'log2']\n",
    "}\n",
    "grid_search = GridSearchCV(\n",
    "    dt, param_grid, cv=skf, scoring='accuracy', verbose=1\n",
    ")\n",
    "\n",
    "# Fit the model using GridSearchCV\n",
    "grid_search.fit(X_train, y_train)\n",
    "\n",
    "# Best model from grid search\n",
    "best_model = grid_search.best_estimator_\n",
    "\n",
    "# Predictions and evaluation on the test set\n",
    "y_pred = best_model.predict(X_test)\n",
    "\n",
    "# Classification Report\n",
    "print(\"Classification Report:\")\n",
    "print(classification_report(y_test, y_pred))\n",
    "\n",
    "# Additional metrics\n",
    "accuracy = accuracy_score(y_test, y_pred)\n",
    "precision = precision_score(y_test, y_pred, average='weighted')\n",
    "recall = recall_score(y_test, y_pred, average='weighted')\n",
    "f1 = f1_score(y_test, y_pred, average='weighted')\n",
    "\n",
    "print(f\"Accuracy: {accuracy}\")\n",
    "print(f\"Precision: {precision}\")\n",
    "print(f\"Recall: {recall}\")\n",
    "print(f\"F1 Score: {f1}\")\n",
    "\n",
    "# Randomized Search for hyperparameter tuning\n",
    "random_search = RandomizedSearchCV(\n",
    "    dt, param_distributions=param_grid, n_iter=10, cv=skf, scoring='accuracy', n_jobs=-1, random_state=42, verbose=1\n",
    ")\n",
    "random_search.fit(X_train, y_train)\n",
    "\n",
    "# Best model from Randomized Search\n",
    "best_random_model = random_search.best_estimator_\n",
    "\n",
    "# Predictions and evaluation on the test set\n",
    "y_pred_random = best_random_model.predict(X_test)\n",
    "\n",
    "# Classification Report for Randomized Search\n",
    "print(\"\\nRandomized Search Classification Report:\")\n",
    "print(classification_report(y_test, y_pred_random))\n",
    "\n",
    "# Additional metrics for Randomized Search model\n",
    "accuracy_random = accuracy_score(y_test, y_pred_random)\n",
    "precision_random = precision_score(y_test, y_pred_random, average='weighted')\n",
    "recall_random = recall_score(y_test, y_pred_random, average='weighted')\n",
    "f1_random = f1_score(y_test, y_pred_random, average='weighted')\n",
    "\n",
    "print(f\"Accuracy (Randomized Search): {accuracy_random}\")\n",
    "print(f\"Precision (Randomized Search): {precision_random}\")\n",
    "print(f\"Recall (Randomized Search): {recall_random}\")\n",
    "print(f\"F1 Score (Randomized Search): {f1_random}\")"
   ]
  },
  {
   "cell_type": "markdown",
   "metadata": {
    "id": "ew0cefsRwaHd"
   },
   "source": [
    "# Random Forest (W200_O25)"
   ]
  },
  {
   "cell_type": "markdown",
   "metadata": {
    "id": "B_iBdk8txdPa"
   },
   "source": [
    "Random Forest with K-Fold Cross-Validation and GridSearch + RandomSearch Tuning\n"
   ]
  },
  {
   "cell_type": "code",
   "execution_count": 10,
   "metadata": {
    "colab": {
     "base_uri": "https://localhost:8080/"
    },
    "executionInfo": {
     "elapsed": 220920,
     "status": "ok",
     "timestamp": 1733706406526,
     "user": {
      "displayName": "Bricen Raynold",
      "userId": "14239134639817671034"
     },
     "user_tz": 300
    },
    "id": "s-lAOx1mxFdy",
    "outputId": "598d5a43-3e82-444c-cc88-9e3f7b303d06"
   },
   "outputs": [
    {
     "name": "stdout",
     "output_type": "stream",
     "text": [
      "Fitting 3 folds for each of 10 candidates, totalling 30 fits\n",
      "Best Parameters: {'bootstrap': True, 'max_depth': 20, 'min_samples_leaf': 2, 'min_samples_split': 4, 'n_estimators': 124}\n",
      "\n",
      "Classification Report:\n",
      "                                   precision    recall  f1-score   support\n",
      "\n",
      "          Browsing Using Computer       1.00      0.99      1.00       287\n",
      "      Moving Around While Sitting       0.97      0.90      0.93       267\n",
      "     Moving Around While Standing       0.96      0.94      0.95       270\n",
      "       Moving Chair While Sitting       0.99      0.99      0.99       334\n",
      "  Moving Head, Body While Sitting       0.99      1.00      0.99       279\n",
      "   Picking Up Items While Sitting       0.96      0.98      0.97       259\n",
      "  Picking Up Items While Standing       0.97      0.97      0.97       214\n",
      "                          Running       0.99      0.99      0.99       174\n",
      "       Sitting and Reading a Book       1.00      1.00      1.00       269\n",
      "Sitting and Writing in a Notebook       1.00      1.00      1.00       262\n",
      "            Stand up From Sitting       0.98      0.97      0.97       277\n",
      "                         Standing       0.91      0.99      0.95       262\n",
      "                    Taking Stairs       1.00      1.00      1.00       259\n",
      "            Typing Using Computer       1.00      0.98      0.99       293\n",
      "                          Walking       0.98      0.99      0.98       249\n",
      "\n",
      "                         accuracy                           0.98      3955\n",
      "                        macro avg       0.98      0.98      0.98      3955\n",
      "                     weighted avg       0.98      0.98      0.98      3955\n",
      "\n",
      "Accuracy: 0.9795\n",
      "Precision: 0.9799\n",
      "Recall: 0.9795\n",
      "F1 Score: 0.9795\n"
     ]
    }
   ],
   "source": [
    "from sklearn.ensemble import RandomForestClassifier\n",
    "from sklearn.model_selection import KFold, RandomizedSearchCV, train_test_split\n",
    "from sklearn.metrics import accuracy_score, precision_score, recall_score, f1_score, classification_report\n",
    "from sklearn.preprocessing import StandardScaler\n",
    "from scipy.stats import randint, uniform\n",
    "\n",
    "target_column = W200_025_df.columns[-1]\n",
    "X = W200_025_df.drop(columns=[target_column])\n",
    "y = W200_025_df[target_column]\n",
    "\n",
    "# Train-test split (80-20)\n",
    "X_train, X_test, y_train, y_test = train_test_split(X, y, test_size=0.2, random_state=42)\n",
    "\n",
    "# Scale features (standardize)\n",
    "scaler = StandardScaler()\n",
    "X_train = scaler.fit_transform(X_train)\n",
    "X_test = scaler.transform(X_test)\n",
    "\n",
    "# K-Fold Cross-Validation\n",
    "kf = KFold(n_splits=3, shuffle=True, random_state=42)\n",
    "\n",
    "# Define the Random Forest model\n",
    "rf = RandomForestClassifier(random_state=42)\n",
    "\n",
    "# Reduced Hyperparameter Space for RandomizedSearchCV\n",
    "param_distributions = {\n",
    "    'n_estimators': randint(50, 200),  # Reduced range for faster training\n",
    "    'max_depth': [None, 10, 20, 30],  # Focus on reasonable depth values\n",
    "    'min_samples_split': randint(2, 10),  # Control tree growth\n",
    "    'min_samples_leaf': randint(1, 5),  # Avoid extremely small leaf sizes\n",
    "    'bootstrap': [True]  # Fix bootstrap to simplify search\n",
    "}\n",
    "\n",
    "# Hyperparameter tuning with RandomizedSearchCV\n",
    "random_search = RandomizedSearchCV(\n",
    "    rf,\n",
    "    param_distributions=param_distributions,\n",
    "    n_iter=10,  # Reduce the number of iterations for faster runtime\n",
    "    cv=kf,\n",
    "    scoring='accuracy',\n",
    "    n_jobs=-1,\n",
    "    random_state=42,\n",
    "    verbose=1\n",
    ")\n",
    "\n",
    "# Fit the model using RandomizedSearchCV\n",
    "random_search.fit(X_train, y_train)\n",
    "\n",
    "# Best model from RandomizedSearchCV\n",
    "best_rf_model = random_search.best_estimator_\n",
    "print(f\"Best Parameters: {random_search.best_params_}\")\n",
    "\n",
    "# Predictions and evaluation on the test set\n",
    "y_pred = best_rf_model.predict(X_test)\n",
    "\n",
    "# Classification Report\n",
    "print(\"\\nClassification Report:\")\n",
    "print(classification_report(y_test, y_pred))\n",
    "\n",
    "# Additional metrics\n",
    "accuracy = accuracy_score(y_test, y_pred)\n",
    "precision = precision_score(y_test, y_pred, average='weighted')\n",
    "recall = recall_score(y_test, y_pred, average='weighted')\n",
    "f1 = f1_score(y_test, y_pred, average='weighted')\n",
    "\n",
    "print(f\"Accuracy: {accuracy:.4f}\")\n",
    "print(f\"Precision: {precision:.4f}\")\n",
    "print(f\"Recall: {recall:.4f}\")\n",
    "print(f\"F1 Score: {f1:.4f}\")"
   ]
  },
  {
   "cell_type": "markdown",
   "metadata": {
    "id": "b_jQLu4GxsHz"
   },
   "source": [
    "# Gaussian Naive Bayes (W200_O50)"
   ]
  },
  {
   "cell_type": "markdown",
   "metadata": {
    "id": "of2MCF2zyDRW"
   },
   "source": [
    "Gaussian Naive Bayes with K-Fold Cross-Validation"
   ]
  },
  {
   "cell_type": "code",
   "execution_count": 11,
   "metadata": {
    "colab": {
     "base_uri": "https://localhost:8080/"
    },
    "executionInfo": {
     "elapsed": 2245,
     "status": "ok",
     "timestamp": 1733706452532,
     "user": {
      "displayName": "Bricen Raynold",
      "userId": "14239134639817671034"
     },
     "user_tz": 300
    },
    "id": "uTY3FX_gxzZv",
    "outputId": "7857de41-619d-4a84-8bb6-5e4f39aaaed9"
   },
   "outputs": [
    {
     "name": "stdout",
     "output_type": "stream",
     "text": [
      "K-Fold Cross-Validation Results:\n",
      "Mean Accuracy: 0.7568\n",
      "Standard Deviation: 0.0088\n",
      "\n",
      "Classification Report:\n",
      "                                   precision    recall  f1-score   support\n",
      "\n",
      "          Browsing Using Computer       0.65      0.91      0.76       430\n",
      "      Moving Around While Sitting       0.72      0.41      0.52       413\n",
      "     Moving Around While Standing       0.71      0.35      0.47       397\n",
      "       Moving Chair While Sitting       0.79      0.62      0.70       467\n",
      "  Moving Head, Body While Sitting       0.68      0.55      0.61       433\n",
      "   Picking Up Items While Sitting       0.59      0.89      0.71       342\n",
      "  Picking Up Items While Standing       0.84      0.82      0.83       305\n",
      "                          Running       0.93      0.97      0.95       261\n",
      "       Sitting and Reading a Book       0.75      0.96      0.84       388\n",
      "Sitting and Writing in a Notebook       0.83      0.64      0.72       406\n",
      "            Stand up From Sitting       0.74      0.82      0.78       388\n",
      "                         Standing       0.60      0.93      0.73       454\n",
      "                    Taking Stairs       0.98      0.97      0.98       415\n",
      "            Typing Using Computer       0.89      0.74      0.81       425\n",
      "                          Walking       0.91      0.90      0.90       408\n",
      "\n",
      "                         accuracy                           0.76      5932\n",
      "                        macro avg       0.78      0.77      0.75      5932\n",
      "                     weighted avg       0.77      0.76      0.75      5932\n",
      "\n",
      "Accuracy: 0.7571\n",
      "Precision: 0.7714\n",
      "Recall: 0.7571\n",
      "F1 Score: 0.7477\n"
     ]
    }
   ],
   "source": [
    "from sklearn.naive_bayes import GaussianNB\n",
    "from sklearn.model_selection import KFold, cross_val_score, train_test_split\n",
    "from sklearn.metrics import accuracy_score, precision_score, recall_score, f1_score, classification_report\n",
    "from sklearn.preprocessing import StandardScaler\n",
    "\n",
    "target_column = W200_050_df.columns[-1]\n",
    "X = W200_050_df.drop(columns=[target_column])\n",
    "y = W200_050_df[target_column]\n",
    "\n",
    "# Train-test split (80-20)\n",
    "X_train, X_test, y_train, y_test = train_test_split(X, y, test_size=0.2, random_state=42)\n",
    "\n",
    "# Scale features (standardize)\n",
    "scaler = StandardScaler()\n",
    "X_train = scaler.fit_transform(X_train)\n",
    "X_test = scaler.transform(X_test)\n",
    "\n",
    "# K-Fold Cross-Validation\n",
    "kf = KFold(n_splits=3, shuffle=True, random_state=42)\n",
    "\n",
    "# Initialize Gaussian Naive Bayes\n",
    "gnb = GaussianNB()\n",
    "\n",
    "# Evaluate the model using K-Fold Cross-Validation\n",
    "cv_scores = cross_val_score(gnb, X_train, y_train, cv=kf, scoring='accuracy')\n",
    "\n",
    "print(\"K-Fold Cross-Validation Results:\")\n",
    "print(f\"Mean Accuracy: {cv_scores.mean():.4f}\")\n",
    "print(f\"Standard Deviation: {cv_scores.std():.4f}\")\n",
    "\n",
    "# Fit the model on the entire training data\n",
    "gnb.fit(X_train, y_train)\n",
    "\n",
    "# Predictions and evaluation on the test set\n",
    "y_pred = gnb.predict(X_test)\n",
    "\n",
    "# Classification Report\n",
    "print(\"\\nClassification Report:\")\n",
    "print(classification_report(y_test, y_pred))\n",
    "\n",
    "# Additional metrics\n",
    "accuracy = accuracy_score(y_test, y_pred)\n",
    "precision = precision_score(y_test, y_pred, average='weighted')\n",
    "recall = recall_score(y_test, y_pred, average='weighted')\n",
    "f1 = f1_score(y_test, y_pred, average='weighted')\n",
    "\n",
    "print(f\"Accuracy: {accuracy:.4f}\")\n",
    "print(f\"Precision: {precision:.4f}\")\n",
    "print(f\"Recall: {recall:.4f}\")\n",
    "print(f\"F1 Score: {f1:.4f}\")"
   ]
  },
  {
   "cell_type": "markdown",
   "metadata": {
    "id": "QM0Txv8vymvN"
   },
   "source": [
    "# SVM (Support Vector Machines) (W300_O25)"
   ]
  },
  {
   "cell_type": "markdown",
   "metadata": {
    "id": "2LEg5gyyyvLl"
   },
   "source": [
    "Support Vector Machines with Stratified K-Fold and RandomizedSearchCV"
   ]
  },
  {
   "cell_type": "code",
   "execution_count": 12,
   "metadata": {
    "colab": {
     "base_uri": "https://localhost:8080/"
    },
    "executionInfo": {
     "elapsed": 586759,
     "status": "ok",
     "timestamp": 1733707078471,
     "user": {
      "displayName": "Bricen Raynold",
      "userId": "14239134639817671034"
     },
     "user_tz": 300
    },
    "id": "-4IgQn4-zE3Y",
    "outputId": "a954e3dd-f9db-43df-9fa2-085d8d2afdf2"
   },
   "outputs": [
    {
     "name": "stdout",
     "output_type": "stream",
     "text": [
      "Fitting 3 folds for each of 50 candidates, totalling 150 fits\n",
      "Best Parameters: {'kernel': 'linear', 'gamma': 'scale', 'degree': 4, 'class_weight': None, 'C': 215.44346900318823}\n",
      "\n",
      "Classification Report:\n",
      "                                   precision    recall  f1-score   support\n",
      "\n",
      "          Browsing Using Computer       0.99      1.00      1.00       197\n",
      "      Moving Around While Sitting       0.99      1.00      1.00       192\n",
      "     Moving Around While Standing       1.00      0.99      1.00       193\n",
      "       Moving Chair While Sitting       0.99      1.00      1.00       185\n",
      "  Moving Head, Body While Sitting       1.00      0.99      0.99       176\n",
      "   Picking Up Items While Sitting       1.00      1.00      1.00       150\n",
      "  Picking Up Items While Standing       1.00      0.99      1.00       140\n",
      "                          Running       0.99      1.00      1.00       123\n",
      "       Sitting and Reading a Book       1.00      1.00      1.00       193\n",
      "Sitting and Writing in a Notebook       1.00      0.99      1.00       184\n",
      "            Stand up From Sitting       0.99      0.99      0.99       179\n",
      "                         Standing       0.99      0.99      0.99       175\n",
      "                    Taking Stairs       1.00      1.00      1.00       191\n",
      "            Typing Using Computer       0.99      1.00      1.00       188\n",
      "                          Walking       0.99      0.99      0.99       169\n",
      "\n",
      "                         accuracy                           1.00      2635\n",
      "                        macro avg       1.00      1.00      1.00      2635\n",
      "                     weighted avg       1.00      1.00      1.00      2635\n",
      "\n",
      "Accuracy: 0.9970\n",
      "Precision: 0.9970\n",
      "Recall: 0.9970\n",
      "F1 Score: 0.9970\n"
     ]
    }
   ],
   "source": [
    "from sklearn.svm import SVC\n",
    "from sklearn.model_selection import StratifiedKFold, RandomizedSearchCV, train_test_split\n",
    "from sklearn.preprocessing import StandardScaler\n",
    "from sklearn.metrics import classification_report, accuracy_score, precision_score, recall_score, f1_score\n",
    "import numpy as np\n",
    "\n",
    "# Assuming the last column is the target variable (activity type)\n",
    "target_column = W300_025_df.columns[-1]\n",
    "X = W300_025_df.drop(columns=[target_column])\n",
    "y = W300_025_df[target_column]\n",
    "\n",
    "# Train-test split (80-20)\n",
    "X_train, X_test, y_train, y_test = train_test_split(X, y, test_size=0.2, random_state=42)\n",
    "\n",
    "# Scale features\n",
    "scaler = StandardScaler()\n",
    "X_train = scaler.fit_transform(X_train)\n",
    "X_test = scaler.transform(X_test)\n",
    "\n",
    "# Stratified K-Fold Cross-Validation\n",
    "skf = StratifiedKFold(n_splits=3, shuffle=True, random_state=42)\n",
    "\n",
    "# Hyperparameter tuning using RandomizedSearchCV\n",
    "param_dist = {\n",
    "    'C': np.logspace(-3, 3, 10),\n",
    "    'kernel': ['linear', 'rbf', 'poly'],\n",
    "    'degree': [2, 3, 4],\n",
    "    'gamma': ['scale', 'auto'],\n",
    "    'class_weight': [None, 'balanced']\n",
    "}\n",
    "\n",
    "svm = SVC()\n",
    "\n",
    "random_search = RandomizedSearchCV(\n",
    "    svm,\n",
    "    param_distributions=param_dist,\n",
    "    n_iter=50,  # Number of parameter settings sampled\n",
    "    cv=skf,\n",
    "    n_jobs=-1,\n",
    "    scoring='accuracy',\n",
    "    verbose=1,\n",
    "    random_state=42\n",
    ")\n",
    "\n",
    "# Perform Randomized Search\n",
    "random_search.fit(X_train, y_train)\n",
    "\n",
    "# Best model and parameters\n",
    "best_model = random_search.best_estimator_\n",
    "print(f\"Best Parameters: {random_search.best_params_}\")\n",
    "\n",
    "# Evaluate on the test set\n",
    "y_pred = best_model.predict(X_test)\n",
    "\n",
    "# Classification Report\n",
    "print(\"\\nClassification Report:\")\n",
    "print(classification_report(y_test, y_pred))\n",
    "\n",
    "# Additional metrics\n",
    "accuracy = accuracy_score(y_test, y_pred)\n",
    "precision = precision_score(y_test, y_pred, average='weighted')\n",
    "recall = recall_score(y_test, y_pred, average='weighted')\n",
    "f1 = f1_score(y_test, y_pred, average='weighted')\n",
    "\n",
    "print(f\"Accuracy: {accuracy:.4f}\")\n",
    "print(f\"Precision: {precision:.4f}\")\n",
    "print(f\"Recall: {recall:.4f}\")\n",
    "print(f\"F1 Score: {f1:.4f}\")"
   ]
  },
  {
   "cell_type": "markdown",
   "metadata": {
    "id": "efZveLXM1KxQ"
   },
   "source": [
    "# KNN (K-Nearest Neighbors) (W300_O50)"
   ]
  },
  {
   "cell_type": "markdown",
   "metadata": {
    "id": "CRkur_IM1Wnj"
   },
   "source": [
    "K-Nearest Neighbors with Stratified K-Fold and GridSearchCV"
   ]
  },
  {
   "cell_type": "code",
   "execution_count": 13,
   "metadata": {
    "colab": {
     "base_uri": "https://localhost:8080/"
    },
    "executionInfo": {
     "elapsed": 63358,
     "status": "ok",
     "timestamp": 1733707180841,
     "user": {
      "displayName": "Bricen Raynold",
      "userId": "14239134639817671034"
     },
     "user_tz": 300
    },
    "id": "dbzMceCs1Ybp",
    "outputId": "ab78296c-433b-4a0c-ff8d-110a34288193"
   },
   "outputs": [
    {
     "name": "stdout",
     "output_type": "stream",
     "text": [
      "Fitting 3 folds for each of 30 candidates, totalling 90 fits\n",
      "Best Parameters: {'metric': 'manhattan', 'n_neighbors': 3, 'weights': 'distance'}\n",
      "\n",
      "Classification Report:\n",
      "                                   precision    recall  f1-score   support\n",
      "\n",
      "          Browsing Using Computer       0.91      0.94      0.92       279\n",
      "      Moving Around While Sitting       0.76      0.75      0.75       298\n",
      "     Moving Around While Standing       0.74      0.65      0.69       277\n",
      "       Moving Chair While Sitting       0.79      0.80      0.79       311\n",
      "  Moving Head, Body While Sitting       0.84      0.83      0.84       282\n",
      "   Picking Up Items While Sitting       0.84      0.82      0.83       230\n",
      "  Picking Up Items While Standing       0.82      0.83      0.83       197\n",
      "                          Running       0.96      0.98      0.97       177\n",
      "       Sitting and Reading a Book       0.95      0.94      0.95       266\n",
      "Sitting and Writing in a Notebook       0.96      0.94      0.95       262\n",
      "            Stand up From Sitting       0.74      0.72      0.73       283\n",
      "                         Standing       0.83      0.88      0.85       285\n",
      "                    Taking Stairs       0.93      0.94      0.93       255\n",
      "            Typing Using Computer       0.91      0.93      0.92       288\n",
      "                          Walking       0.91      0.96      0.93       261\n",
      "\n",
      "                         accuracy                           0.86      3951\n",
      "                        macro avg       0.86      0.86      0.86      3951\n",
      "                     weighted avg       0.85      0.86      0.85      3951\n",
      "\n",
      "Accuracy: 0.8552\n",
      "Precision: 0.8540\n",
      "Recall: 0.8552\n",
      "F1 Score: 0.8543\n"
     ]
    }
   ],
   "source": [
    "from sklearn.neighbors import KNeighborsClassifier\n",
    "from sklearn.model_selection import StratifiedKFold, GridSearchCV, train_test_split\n",
    "from sklearn.preprocessing import StandardScaler\n",
    "from sklearn.metrics import classification_report, accuracy_score, precision_score, recall_score, f1_score\n",
    "\n",
    "target_column = W300_050_df.columns[-1]\n",
    "X = W300_050_df.drop(columns=[target_column])\n",
    "y = W300_050_df[target_column]\n",
    "\n",
    "# Train-test split (80-20)\n",
    "X_train, X_test, y_train, y_test = train_test_split(X, y, test_size=0.2, random_state=42)\n",
    "\n",
    "# Scale features\n",
    "scaler = StandardScaler()\n",
    "X_train = scaler.fit_transform(X_train)\n",
    "X_test = scaler.transform(X_test)\n",
    "\n",
    "# Stratified K-Fold Cross-Validation\n",
    "skf = StratifiedKFold(n_splits=3, shuffle=True, random_state=42)\n",
    "\n",
    "# Hyperparameter tuning using GridSearchCV\n",
    "param_grid = {\n",
    "    'n_neighbors': [3, 5, 7, 9, 11],  # Number of neighbors\n",
    "    'weights': ['uniform', 'distance'],\n",
    "    'metric': ['euclidean', 'manhattan', 'minkowski']\n",
    "}\n",
    "\n",
    "knn = KNeighborsClassifier()\n",
    "\n",
    "grid_search = GridSearchCV(\n",
    "    knn,\n",
    "    param_grid=param_grid,\n",
    "    cv=skf,\n",
    "    scoring='accuracy',\n",
    "    verbose=1\n",
    ")\n",
    "\n",
    "# Perform Grid Search\n",
    "grid_search.fit(X_train, y_train)\n",
    "\n",
    "# Best model and parameters\n",
    "best_model = grid_search.best_estimator_\n",
    "print(f\"Best Parameters: {grid_search.best_params_}\")\n",
    "\n",
    "# Evaluate on the test set\n",
    "y_pred = best_model.predict(X_test)\n",
    "\n",
    "# Classification Report\n",
    "print(\"\\nClassification Report:\")\n",
    "print(classification_report(y_test, y_pred))\n",
    "\n",
    "# Additional metrics\n",
    "accuracy = accuracy_score(y_test, y_pred)\n",
    "precision = precision_score(y_test, y_pred, average='weighted')\n",
    "recall = recall_score(y_test, y_pred, average='weighted')\n",
    "f1 = f1_score(y_test, y_pred, average='weighted')\n",
    "\n",
    "print(f\"Accuracy: {accuracy:.4f}\")\n",
    "print(f\"Precision: {precision:.4f}\")\n",
    "print(f\"Recall: {recall:.4f}\")\n",
    "print(f\"F1 Score: {f1:.4f}\")"
   ]
  },
  {
   "cell_type": "markdown",
   "metadata": {
    "id": "O9wC_en42Hz0"
   },
   "source": [
    "# AdaBoost (W400_O25)"
   ]
  },
  {
   "cell_type": "markdown",
   "metadata": {
    "id": "Sn0Fmz732NND"
   },
   "source": [
    "AdaBoost with K-Fold and GridSearchCV"
   ]
  },
  {
   "cell_type": "code",
   "execution_count": 17,
   "metadata": {
    "colab": {
     "base_uri": "https://localhost:8080/"
    },
    "executionInfo": {
     "elapsed": 264068,
     "status": "ok",
     "timestamp": 1733707777063,
     "user": {
      "displayName": "Bricen Raynold",
      "userId": "14239134639817671034"
     },
     "user_tz": 300
    },
    "id": "FBA6tnL32crC",
    "outputId": "c9f3e84d-34fb-409c-bc42-da625c47dba4"
   },
   "outputs": [
    {
     "name": "stdout",
     "output_type": "stream",
     "text": [
      "Fitting 3 folds for each of 9 candidates, totalling 27 fits\n",
      "\n",
      "Classification Report:\n",
      "                                   precision    recall  f1-score   support\n",
      "\n",
      "          Browsing Using Computer       0.00      0.00      0.00       287\n",
      "      Moving Around While Sitting       1.00      1.00      1.00       267\n",
      "     Moving Around While Standing       0.23      1.00      0.38       270\n",
      "       Moving Chair While Sitting       0.55      1.00      0.71       334\n",
      "  Moving Head, Body While Sitting       0.25      1.00      0.40       279\n",
      "   Picking Up Items While Sitting       0.00      0.00      0.00       259\n",
      "  Picking Up Items While Standing       0.00      0.00      0.00       214\n",
      "                          Running       0.00      0.00      0.00       174\n",
      "       Sitting and Reading a Book       1.00      1.00      1.00       269\n",
      "Sitting and Writing in a Notebook       0.00      0.00      0.00       262\n",
      "            Stand up From Sitting       0.00      0.00      0.00       277\n",
      "                         Standing       1.00      1.00      1.00       262\n",
      "                    Taking Stairs       1.00      1.00      1.00       259\n",
      "            Typing Using Computer       0.00      0.00      0.00       293\n",
      "                          Walking       0.00      0.00      0.00       249\n",
      "\n",
      "                         accuracy                           0.49      3955\n",
      "                        macro avg       0.33      0.47      0.37      3955\n",
      "                     weighted avg       0.35      0.49      0.38      3955\n",
      "\n",
      "Accuracy: 0.4903\n",
      "Precision: 0.3465\n",
      "Recall: 0.4903\n",
      "F1 Score: 0.3805\n"
     ]
    }
   ],
   "source": [
    "from sklearn.ensemble import AdaBoostClassifier\n",
    "from sklearn.tree import DecisionTreeClassifier\n",
    "from sklearn.model_selection import KFold, GridSearchCV, train_test_split\n",
    "from sklearn.metrics import accuracy_score, precision_score, recall_score, f1_score, classification_report\n",
    "from sklearn.preprocessing import StandardScaler\n",
    "\n",
    "# Assuming the last column is the target variable (activity type)\n",
    "target_column = W200_025_df.columns[-1]\n",
    "X = W200_025_df.drop(columns=[target_column])\n",
    "y = W200_025_df[target_column]\n",
    "\n",
    "# Train-test split (80-20)\n",
    "X_train, X_test, y_train, y_test = train_test_split(X, y, test_size=0.2, random_state=42)\n",
    "\n",
    "# Scale features (standardize)\n",
    "scaler = StandardScaler()\n",
    "X_train = scaler.fit_transform(X_train)\n",
    "X_test = scaler.transform(X_test)\n",
    "\n",
    "# K-Fold Cross-Validation\n",
    "kf = KFold(n_splits=3, shuffle=True, random_state=42)\n",
    "\n",
    "# Defining the AdaBoost model\n",
    "adaboost = AdaBoostClassifier(n_estimators=100, learning_rate=1.0, random_state=42)\n",
    "\n",
    "# Hyperparameter tuning with GridSearchCV\n",
    "param_grid = {\n",
    "    'n_estimators': [50, 100, 200],  # Number of boosting rounds\n",
    "    'learning_rate': [0.01, 0.1, 1]  # Learning rate for boosting\n",
    "}\n",
    "grid_search = GridSearchCV(\n",
    "    adaboost, param_grid, cv=kf, scoring='accuracy', verbose=1, n_jobs=-1\n",
    ")\n",
    "\n",
    "# Fit the model using GridSearchCV\n",
    "grid_search.fit(X_train, y_train)\n",
    "\n",
    "# Best model from GridSearchCV\n",
    "best_adaboost_model = grid_search.best_estimator_\n",
    "\n",
    "# Predictions and evaluation on the test set\n",
    "y_pred = best_adaboost_model.predict(X_test)\n",
    "\n",
    "# Classification Report\n",
    "print(\"\\nClassification Report:\")\n",
    "print(classification_report(y_test, y_pred))\n",
    "\n",
    "# Additional metrics\n",
    "accuracy = accuracy_score(y_test, y_pred)\n",
    "precision = precision_score(y_test, y_pred, average='weighted')\n",
    "recall = recall_score(y_test, y_pred, average='weighted')\n",
    "f1 = f1_score(y_test, y_pred, average='weighted')\n",
    "\n",
    "print(f\"Accuracy: {accuracy:.4f}\")\n",
    "print(f\"Precision: {precision:.4f}\")\n",
    "print(f\"Recall: {recall:.4f}\")\n",
    "print(f\"F1 Score: {f1:.4f}\")"
   ]
  },
  {
   "cell_type": "markdown",
   "metadata": {
    "id": "zSoijAMV2ysl"
   },
   "source": [
    "# Gradient Boost (W400_O50)"
   ]
  },
  {
   "cell_type": "markdown",
   "metadata": {
    "id": "1Kn8o0jM4Y5C"
   },
   "source": [
    "Gradient Boosting with K-Fold and RandomizedSearchCV (GridSearch execution time was taking over 35 minutes, so I tried to reduce it by lowering splits and iterations)"
   ]
  },
  {
   "cell_type": "code",
   "execution_count": 29,
   "metadata": {
    "colab": {
     "base_uri": "https://localhost:8080/"
    },
    "executionInfo": {
     "elapsed": 1207611,
     "status": "ok",
     "timestamp": 1733718218564,
     "user": {
      "displayName": "Bricen Raynold",
      "userId": "14239134639817671034"
     },
     "user_tz": 300
    },
    "id": "aiWk_SL54ZRH",
    "outputId": "306eeb7d-20a0-455f-d527-b194be08f592"
   },
   "outputs": [
    {
     "name": "stdout",
     "output_type": "stream",
     "text": [
      "Fitting 2 folds for each of 10 candidates, totalling 20 fits\n",
      "Best Parameters: {'learning_rate': 0.0849080237694725, 'max_depth': 2, 'min_samples_split': 8, 'n_estimators': 156, 'subsample': 0.9339073000818308}\n",
      "\n",
      "Classification Report:\n",
      "                                   precision    recall  f1-score   support\n",
      "\n",
      "          Browsing Using Computer       1.00      1.00      1.00       211\n",
      "      Moving Around While Sitting       1.00      1.00      1.00       235\n",
      "     Moving Around While Standing       1.00      0.99      1.00       207\n",
      "       Moving Chair While Sitting       1.00      1.00      1.00       207\n",
      "  Moving Head, Body While Sitting       1.00      1.00      1.00       223\n",
      "   Picking Up Items While Sitting       0.99      1.00      1.00       164\n",
      "  Picking Up Items While Standing       1.00      1.00      1.00       161\n",
      "                          Running       1.00      1.00      1.00       126\n",
      "       Sitting and Reading a Book       1.00      1.00      1.00       227\n",
      "Sitting and Writing in a Notebook       1.00      1.00      1.00       192\n",
      "            Stand up From Sitting       1.00      1.00      1.00       189\n",
      "                         Standing       1.00      1.00      1.00       228\n",
      "                    Taking Stairs       1.00      1.00      1.00       180\n",
      "            Typing Using Computer       1.00      1.00      1.00       229\n",
      "                          Walking       1.00      1.00      1.00       182\n",
      "\n",
      "                         accuracy                           1.00      2961\n",
      "                        macro avg       1.00      1.00      1.00      2961\n",
      "                     weighted avg       1.00      1.00      1.00      2961\n",
      "\n",
      "Accuracy: 0.9990\n",
      "Precision: 0.9990\n",
      "Recall: 0.9990\n",
      "F1 Score: 0.9990\n"
     ]
    }
   ],
   "source": [
    "from sklearn.ensemble import GradientBoostingClassifier\n",
    "from sklearn.model_selection import KFold, RandomizedSearchCV, train_test_split\n",
    "from sklearn.preprocessing import StandardScaler\n",
    "from sklearn.metrics import classification_report, accuracy_score, precision_score, recall_score, f1_score\n",
    "from scipy.stats import uniform, randint\n",
    "\n",
    "# Assuming the last column is the target variable (activity type)\n",
    "target_column = W400_050_df.columns[-1]\n",
    "X = W400_050_df.drop(columns=[target_column])\n",
    "y = W400_050_df[target_column]\n",
    "\n",
    "# Train-test split (80-20)\n",
    "X_train, X_test, y_train, y_test = train_test_split(X, y, test_size=0.2, random_state=42)\n",
    "\n",
    "# Scale features\n",
    "scaler = StandardScaler()\n",
    "X_train = scaler.fit_transform(X_train)\n",
    "X_test = scaler.transform(X_test)\n",
    "\n",
    "# K-Fold Cross-Validation\n",
    "kf = KFold(n_splits=2, shuffle=True, random_state=42)\n",
    "\n",
    "# Define the GradientBoostingClassifier\n",
    "gb_clf = GradientBoostingClassifier(random_state=42)\n",
    "\n",
    "# Hyperparameter distribution for RandomizedSearchCV\n",
    "param_dist = {\n",
    "    'n_estimators': randint(50, 200),  # Randomly select between 50 and 200\n",
    "    'learning_rate': uniform(0.01, 0.2),  # Random float between 0.01 and 0.2\n",
    "    'max_depth': randint(2, 5),  # Randomly choose depth between 2 and 4\n",
    "    'subsample': uniform(0.7, 0.3),  # Random fraction between 0.7 and 1.0\n",
    "    'min_samples_split': randint(2, 10)  # Randomly choose from 2 to 10\n",
    "}\n",
    "\n",
    "# Perform RandomizedSearchCV instead of GridSearchCV\n",
    "random_search = RandomizedSearchCV(\n",
    "    gb_clf,\n",
    "    param_distributions=param_dist,\n",
    "    n_iter=10,\n",
    "    cv=kf,\n",
    "    scoring='accuracy',\n",
    "    verbose=1,\n",
    "    n_jobs=-1,\n",
    "    random_state=42\n",
    ")\n",
    "\n",
    "# Perform Randomized Search\n",
    "random_search.fit(X_train, y_train)\n",
    "\n",
    "# Best model and parameters\n",
    "best_model = random_search.best_estimator_\n",
    "print(f\"Best Parameters: {random_search.best_params_}\")\n",
    "\n",
    "# Evaluate on the test set\n",
    "y_pred = best_model.predict(X_test)\n",
    "\n",
    "# Classification Report\n",
    "print(\"\\nClassification Report:\")\n",
    "print(classification_report(y_test, y_pred))\n",
    "\n",
    "# Additional metrics\n",
    "accuracy = accuracy_score(y_test, y_pred)\n",
    "precision = precision_score(y_test, y_pred, average='weighted')\n",
    "recall = recall_score(y_test, y_pred, average='weighted')\n",
    "f1 = f1_score(y_test, y_pred, average='weighted')\n",
    "\n",
    "print(f\"Accuracy: {accuracy:.4f}\")\n",
    "print(f\"Precision: {precision:.4f}\")\n",
    "print(f\"Recall: {recall:.4f}\")\n",
    "print(f\"F1 Score: {f1:.4f}\")\n"
   ]
  },
  {
   "cell_type": "markdown",
   "metadata": {
    "id": "V-Rrk3SH6pVw"
   },
   "source": [
    "# XGBoost (W500_O25)"
   ]
  },
  {
   "cell_type": "markdown",
   "metadata": {
    "id": "udpeJXlB6v0j"
   },
   "source": [
    "XGBoost with KFold and RandomizedSearchCV"
   ]
  },
  {
   "cell_type": "code",
   "execution_count": 24,
   "metadata": {
    "colab": {
     "base_uri": "https://localhost:8080/"
    },
    "executionInfo": {
     "elapsed": 52256,
     "status": "ok",
     "timestamp": 1733713533418,
     "user": {
      "displayName": "Bricen Raynold",
      "userId": "14239134639817671034"
     },
     "user_tz": 300
    },
    "id": "-gQ86RIO6wHA",
    "outputId": "1a3cc82b-ad18-4adb-9322-b2a80521f27b"
   },
   "outputs": [
    {
     "name": "stdout",
     "output_type": "stream",
     "text": [
      "Fitting 3 folds for each of 10 candidates, totalling 30 fits\n",
      "Best Parameters: {'colsample_bytree': 0.6727299868828402, 'gamma': 0.9170225492671691, 'learning_rate': 0.1012726728878613, 'max_depth': 8, 'n_estimators': 138, 'reg_alpha': 0.2912291401980419, 'reg_lambda': 4.059264473611897, 'subsample': 0.6557975442608167}\n",
      "\n",
      "Classification Report:\n",
      "                                   precision    recall  f1-score   support\n",
      "\n",
      "          Browsing Using Computer       1.00      1.00      1.00       106\n",
      "      Moving Around While Sitting       1.00      1.00      1.00       115\n",
      "     Moving Around While Standing       1.00      1.00      1.00       115\n",
      "       Moving Chair While Sitting       1.00      0.99      1.00       122\n",
      "  Moving Head, Body While Sitting       1.00      1.00      1.00       109\n",
      "   Picking Up Items While Sitting       1.00      1.00      1.00        79\n",
      "  Picking Up Items While Standing       0.97      1.00      0.99        69\n",
      "                          Running       1.00      1.00      1.00        73\n",
      "       Sitting and Reading a Book       0.99      1.00      1.00       129\n",
      "Sitting and Writing in a Notebook       1.00      0.99      1.00       108\n",
      "            Stand up From Sitting       0.99      1.00      0.99        92\n",
      "                         Standing       1.00      1.00      1.00       109\n",
      "                    Taking Stairs       1.00      1.00      1.00       111\n",
      "            Typing Using Computer       1.00      1.00      1.00       123\n",
      "                          Walking       1.00      0.98      0.99       118\n",
      "\n",
      "                         accuracy                           1.00      1578\n",
      "                        macro avg       1.00      1.00      1.00      1578\n",
      "                     weighted avg       1.00      1.00      1.00      1578\n",
      "\n",
      "Accuracy: 0.9975\n",
      "Precision: 0.9975\n",
      "Recall: 0.9975\n",
      "F1 Score: 0.9975\n"
     ]
    }
   ],
   "source": [
    "from xgboost import XGBClassifier\n",
    "from sklearn.model_selection import KFold, RandomizedSearchCV, train_test_split\n",
    "from sklearn.metrics import accuracy_score, precision_score, recall_score, f1_score, classification_report\n",
    "from sklearn.preprocessing import StandardScaler\n",
    "from scipy.stats import randint, uniform\n",
    "from sklearn.preprocessing import LabelEncoder\n",
    "\n",
    "target_column = W500_025_df.columns[-1]\n",
    "X = W500_025_df.drop(columns=[target_column])\n",
    "y = W500_025_df[target_column]\n",
    "\n",
    "# Encode activity labels to integers\n",
    "label_encoder = LabelEncoder()\n",
    "y_encoded = label_encoder.fit_transform(y)\n",
    "\n",
    "# Train-test split (80-20)\n",
    "X_train, X_test, y_train, y_test = train_test_split(X, y_encoded, test_size=0.2, random_state=42)\n",
    "\n",
    "# Scale features (standardize)\n",
    "scaler = StandardScaler()\n",
    "X_train = scaler.fit_transform(X_train)\n",
    "X_test = scaler.transform(X_test)\n",
    "\n",
    "# K-Fold Cross-Validation\n",
    "kf = KFold(n_splits=3, shuffle=True, random_state=42)\n",
    "\n",
    "# Define the XGBoost model\n",
    "xgb = XGBClassifier(use_label_encoder=False, eval_metric='logloss', random_state=42)\n",
    "\n",
    "# Reduced Hyperparameter Space for RandomizedSearchCV\n",
    "param_distributions = {\n",
    "    'n_estimators': randint(50, 200),  # Number of boosting rounds\n",
    "    'max_depth': randint(3, 10),  # Depth of trees\n",
    "    'learning_rate': uniform(0.01, 0.3),  # Step size shrinkage\n",
    "    'subsample': uniform(0.6, 0.4),  # Fraction of samples for boosting\n",
    "    'colsample_bytree': uniform(0.6, 0.4),  # Fraction of features for boosting\n",
    "    'gamma': uniform(0, 5),  # Minimum loss reduction\n",
    "    'reg_alpha': uniform(0, 1),  # L1 regularization term\n",
    "    'reg_lambda': uniform(1, 5)  # L2 regularization term\n",
    "}\n",
    "\n",
    "# Hyperparameter tuning with RandomizedSearchCV\n",
    "random_search = RandomizedSearchCV(\n",
    "    xgb,\n",
    "    param_distributions=param_distributions,\n",
    "    n_iter=10,  # Reduce the number of iterations for faster runtime\n",
    "    cv=kf,\n",
    "    scoring='accuracy',\n",
    "    n_jobs=-1,\n",
    "    random_state=42,\n",
    "    verbose=1\n",
    ")\n",
    "\n",
    "# Fit the model using RandomizedSearchCV\n",
    "random_search.fit(X_train, y_train)\n",
    "\n",
    "# Best model from RandomizedSearchCV\n",
    "best_xgb_model = random_search.best_estimator_\n",
    "print(f\"Best Parameters: {random_search.best_params_}\")\n",
    "\n",
    "# Predictions and evaluation on the test set\n",
    "y_pred = best_xgb_model.predict(X_test)\n",
    "\n",
    "# Inverse transform to get original activity names\n",
    "y_pred_original = label_encoder.inverse_transform(y_pred)\n",
    "\n",
    "# Inverse transform y_test to get the original activity names\n",
    "y_test_original = label_encoder.inverse_transform(y_test)\n",
    "\n",
    "# Classification Report\n",
    "print(\"\\nClassification Report:\")\n",
    "print(classification_report(y_test_original, y_pred_original))\n",
    "\n",
    "# Additional metrics\n",
    "accuracy = accuracy_score(y_test_original, y_pred_original)\n",
    "precision = precision_score(y_test_original, y_pred_original, average='weighted')\n",
    "recall = recall_score(y_test_original, y_pred_original, average='weighted')\n",
    "f1 = f1_score(y_test_original, y_pred_original, average='weighted')\n",
    "\n",
    "print(f\"Accuracy: {accuracy:.4f}\")\n",
    "print(f\"Precision: {precision:.4f}\")\n",
    "print(f\"Recall: {recall:.4f}\")\n",
    "print(f\"F1 Score: {f1:.4f}\")"
   ]
  },
  {
   "cell_type": "markdown",
   "metadata": {
    "id": "qOxfFOKY6wt3"
   },
   "source": [
    "#ANN (Artificial Neural Networks) (W500_O50)"
   ]
  },
  {
   "cell_type": "markdown",
   "metadata": {
    "id": "eUcA1dn38auY"
   },
   "source": [
    "ANN with Stratified K-Fold and RandomizedSearchCV (Similar issue with runtime, suggests my implementation is very computationally expensive)"
   ]
  },
  {
   "cell_type": "code",
   "execution_count": 27,
   "metadata": {
    "colab": {
     "base_uri": "https://localhost:8080/"
    },
    "executionInfo": {
     "elapsed": 850741,
     "status": "ok",
     "timestamp": 1733715764505,
     "user": {
      "displayName": "Bricen Raynold",
      "userId": "14239134639817671034"
     },
     "user_tz": 300
    },
    "id": "lGhli5Ku8Zv0",
    "outputId": "4ef0ad01-6a58-4f89-f190-9217107ec2aa"
   },
   "outputs": [
    {
     "name": "stdout",
     "output_type": "stream",
     "text": [
      "Fitting 2 folds for each of 25 candidates, totalling 50 fits\n",
      "Best Parameters: {'activation': 'tanh', 'alpha': 0.0015199034037054083, 'hidden_layer_sizes': (50, 50), 'learning_rate': 'adaptive', 'max_iter': 300, 'solver': 'adam'}\n",
      "\n",
      "Classification Report:\n",
      "                                   precision    recall  f1-score   support\n",
      "\n",
      "          Browsing Using Computer       1.00      1.00      1.00       169\n",
      "      Moving Around While Sitting       1.00      0.97      0.99       155\n",
      "     Moving Around While Standing       0.99      1.00      0.99       173\n",
      "       Moving Chair While Sitting       0.99      0.99      0.99       186\n",
      "  Moving Head, Body While Sitting       1.00      0.99      1.00       186\n",
      "   Picking Up Items While Sitting       0.99      1.00      1.00       121\n",
      "  Picking Up Items While Standing       0.99      0.99      0.99       126\n",
      "                          Running       0.99      0.98      0.99       106\n",
      "       Sitting and Reading a Book       1.00      0.98      0.99       180\n",
      "Sitting and Writing in a Notebook       0.98      1.00      0.99       160\n",
      "            Stand up From Sitting       0.99      0.99      0.99       151\n",
      "                         Standing       0.98      1.00      0.99       165\n",
      "                    Taking Stairs       0.99      1.00      0.99       164\n",
      "            Typing Using Computer       0.99      1.00      1.00       170\n",
      "                          Walking       1.00      0.99      0.99       154\n",
      "\n",
      "                         accuracy                           0.99      2366\n",
      "                        macro avg       0.99      0.99      0.99      2366\n",
      "                     weighted avg       0.99      0.99      0.99      2366\n",
      "\n",
      "Accuracy: 0.9932\n",
      "Precision: 0.9933\n",
      "Recall: 0.9932\n",
      "F1 Score: 0.9932\n"
     ]
    }
   ],
   "source": [
    "from sklearn.neural_network import MLPClassifier\n",
    "from sklearn.model_selection import StratifiedKFold, RandomizedSearchCV, train_test_split\n",
    "from sklearn.preprocessing import StandardScaler\n",
    "from sklearn.metrics import classification_report, accuracy_score, precision_score, recall_score, f1_score\n",
    "from scipy.stats import loguniform\n",
    "\n",
    "# Assuming the last column is the target variable (activity type)\n",
    "target_column = W500_050_df.columns[-1]\n",
    "X = W500_050_df.drop(columns=[target_column])\n",
    "y = W500_050_df[target_column]\n",
    "\n",
    "# Train-test split (80-20)\n",
    "X_train, X_test, y_train, y_test = train_test_split(X, y, test_size=0.2, random_state=42)\n",
    "\n",
    "# Scale features\n",
    "scaler = StandardScaler()\n",
    "X_train = scaler.fit_transform(X_train)\n",
    "X_test = scaler.transform(X_test)\n",
    "\n",
    "# Stratified K-Fold Cross-Validation\n",
    "skf = StratifiedKFold(n_splits=2, shuffle=True, random_state=42)\n",
    "\n",
    "# Hyperparameter tuning using RandomizedSearchCV\n",
    "param_distributions = {\n",
    "    'hidden_layer_sizes': [(50,), (100,), (50, 50), (100, 100)],  # Number of neurons in hidden layers\n",
    "    'activation': ['relu', 'tanh'],  # Activation functions\n",
    "    'solver': ['adam', 'sgd'],  # Optimizers\n",
    "    'alpha': loguniform(1e-5, 1e-2),  # Regularization strength\n",
    "    'learning_rate': ['constant', 'adaptive'],  # Learning rate schedule\n",
    "    'max_iter': [200, 300, 500]  # Maximum iterations\n",
    "}\n",
    "\n",
    "mlp_clf = MLPClassifier(random_state=42)\n",
    "\n",
    "random_search = RandomizedSearchCV(\n",
    "    mlp_clf,\n",
    "    param_distributions=param_distributions,\n",
    "    n_iter=25,  # Number of random samples\n",
    "    cv=skf,\n",
    "    scoring='accuracy',\n",
    "    verbose=1,\n",
    "    n_jobs=-1,\n",
    "    random_state=42\n",
    ")\n",
    "\n",
    "# Perform Randomized Search\n",
    "random_search.fit(X_train, y_train)\n",
    "\n",
    "# Best model and parameters\n",
    "best_model = random_search.best_estimator_\n",
    "print(f\"Best Parameters: {random_search.best_params_}\")\n",
    "\n",
    "# Evaluate on the test set\n",
    "y_pred = best_model.predict(X_test)\n",
    "\n",
    "# Classification Report\n",
    "print(\"\\nClassification Report:\")\n",
    "print(classification_report(y_test, y_pred))\n",
    "\n",
    "# Additional metrics\n",
    "accuracy = accuracy_score(y_test, y_pred)\n",
    "precision = precision_score(y_test, y_pred, average='weighted')\n",
    "recall = recall_score(y_test, y_pred, average='weighted')\n",
    "f1 = f1_score(y_test, y_pred, average='weighted')\n",
    "\n",
    "print(f\"Accuracy: {accuracy:.4f}\")\n",
    "print(f\"Precision: {precision:.4f}\")\n",
    "print(f\"Recall: {recall:.4f}\")\n",
    "print(f\"F1 Score: {f1:.4f}\")"
   ]
  }
 ],
 "metadata": {
  "colab": {
   "authorship_tag": "ABX9TyOp/9dSc3JjxvXGw/XSjSya",
   "provenance": []
  },
  "kernelspec": {
   "display_name": "Python 3",
   "name": "python3"
  },
  "language_info": {
   "name": "python"
  }
 },
 "nbformat": 4,
 "nbformat_minor": 0
}
